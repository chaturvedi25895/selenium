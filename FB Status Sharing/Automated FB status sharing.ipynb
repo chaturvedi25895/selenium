{
 "cells": [
  {
   "cell_type": "code",
   "execution_count": null,
   "metadata": {},
   "outputs": [],
   "source": [
    "#Ref site to run selenium\n",
    "#https://www.browserstack.com/guide/python-selenium-to-run-web-automation-test\n",
    "# for chrome driver - https://sites.google.com/a/chromium.org/chromedriver/downloads"
   ]
  },
  {
   "cell_type": "code",
   "execution_count": null,
   "metadata": {},
   "outputs": [],
   "source": [
    "import time as t\n",
    "from selenium import webdriver\n",
    "from selenium.webdriver.common.keys import Keys\n",
    "\n",
    "browser = webdriver.Chrome('C:/Users/Kokila/Python/new/Selenium project/chromedriver')\n",
    "\n",
    "username = input(\"Please provide your username: \") \n",
    "password = input(\"Please provide your password: \") \n",
    "new_status_update = input(\"\"\"What shall we update in Facebook in a single line: \"\"\")\n",
    "#--\n",
    "\n",
    "url = \"https://www.facebook.com/\"\n",
    "\n",
    "browser.get(url)\n",
    "#--\n",
    "t.sleep(5)\n",
    "print(\"Successfully opened FB login page.\")\n",
    "browser.find_element_by_id(\"email\").clear()\n",
    "browser.find_element_by_id(\"email\").send_keys(username)\n",
    "browser.find_element_by_id(\"pass\").clear()\n",
    "browser.find_element_by_id(\"pass\").send_keys(password)\n",
    "t.sleep(5)\n",
    "print(\"Successfully entered the credentials.\")\n",
    "browser.find_element_by_name(\"login\").click()\n",
    "t.sleep(5)\n",
    "print(\"Successfully logged into Facebook.\")\n",
    "\n",
    "profile_page = browser.find_element_by_xpath(\"/html/body/div[1]/div/div[1]/div/div[3]/div/div/div[1]/div[1]/div/div[2]/div/div/div[3]/div/div[2]/div/div/div/div[1]/div/div[1]/span\")\n",
    "profile_page.click()\n",
    "t.sleep(5)\n",
    "click_on_status = browser.find_element_by_xpath(\"/html/body/div[1]/div/div[1]/div/div[4]/div/div/div[1]/div/div[2]/div/div/div/form/div/div[1]/div/div/div/div[2]/div[1]/div[1]/div[1]/div/div/div/div/div[2]/div/div/div/div\")\n",
    "click_on_status.click()\n",
    "t.sleep(5)\n",
    "inputting_status_provided_above = browser.find_element_by_xpath(\"/html/body/div[1]/div/div[1]/div/div[4]/div/div/div[1]/div/div[2]/div/div/div/form/div/div[1]/div/div/div/div[2]/div[1]/div[1]/div[1]/div/div/div/div/div[2]/div/div/div/div\")\n",
    "inputting_status_provided_above.send_keys(new_status_update)\n",
    "t.sleep(5)\n",
    "posting_status = browser.find_element_by_xpath(\"/html/body/div[1]/div/div[1]/div/div[4]/div/div/div[1]/div/div[2]/div/div/div/form/div/div[1]/div/div/div/div[3]/div[2]/div/div/div[1]/div/span/span\")\n",
    "posting_status.click()\n",
    "print(\"Successfully posted an update in Facebook.\")\n",
    "browser.close()\n",
    "print(\"Successfully closed the browser.\")\n"
   ]
  },
  {
   "cell_type": "code",
   "execution_count": null,
   "metadata": {},
   "outputs": [],
   "source": []
  }
 ],
 "metadata": {
  "kernelspec": {
   "display_name": "Python 3",
   "language": "python",
   "name": "python3"
  },
  "language_info": {
   "codemirror_mode": {
    "name": "ipython",
    "version": 3
   },
   "file_extension": ".py",
   "mimetype": "text/x-python",
   "name": "python",
   "nbconvert_exporter": "python",
   "pygments_lexer": "ipython3",
   "version": "3.7.0"
  }
 },
 "nbformat": 4,
 "nbformat_minor": 2
}
