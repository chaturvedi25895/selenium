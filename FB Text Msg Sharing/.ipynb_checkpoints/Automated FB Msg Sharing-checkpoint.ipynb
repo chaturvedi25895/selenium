{
 "cells": [
  {
   "cell_type": "code",
   "execution_count": 2,
   "metadata": {},
   "outputs": [
    {
     "name": "stderr",
     "output_type": "stream",
     "text": [
      "C:\\Users\\Kokila\\Anaconda3\\lib\\site-packages\\ipykernel_launcher.py:11: DeprecationWarning: use options instead of chrome_options\n",
      "  # This is added back by InteractiveShellApp.init_path()\n"
     ]
    },
    {
     "name": "stdout",
     "output_type": "stream",
     "text": [
      "Successfully opened FB login page.\n",
      "Successfully entered the credentials.\n",
      "Successfully logged into Facebook.\n",
      "Your msg sent successfully.\n"
     ]
    }
   ],
   "source": [
    "import time as t\n",
    "from selenium import webdriver\n",
    "from selenium.webdriver.common.keys import Keys\n",
    "\n",
    "chrome_options = webdriver.ChromeOptions()\n",
    "\n",
    "prefs = {\"profile.default_content_setting_values.notifications\" : 2}\n",
    "\n",
    "chrome_options.add_experimental_option(\"prefs\",prefs)\n",
    "\n",
    "browser = webdriver.Chrome(executable_path='C:/Users/Kokila/Python/new/Selenium project/chromedriver',chrome_options=chrome_options)\n",
    "\n",
    "username = input(\"Please provide your username: \") \n",
    "password = input(\"Please provide your password: \") \n",
    "friend_name = input(\"Friend name as available in Facebook: \")\n",
    "msg = input(\"\"\"What shall we msg to {} in a single line: \"\"\".format(friend_name))\n",
    "#--\n",
    "\n",
    "url = \"https://www.facebook.com/\"\n",
    "\n",
    "browser.get(url)\n",
    "#--\n",
    "t.sleep(3)\n",
    "print(\"Successfully opened FB login page.\")\n",
    "t.sleep(5)\n",
    "browser.maximize_window()\n",
    "t.sleep(7)\n",
    "browser.find_element_by_id(\"email\").clear()\n",
    "browser.find_element_by_id(\"email\").send_keys(username)\n",
    "browser.find_element_by_id(\"pass\").clear()\n",
    "browser.find_element_by_id(\"pass\").send_keys(password)\n",
    "t.sleep(5)\n",
    "print(\"Successfully entered the credentials.\")\n",
    "browser.find_element_by_name(\"login\").click()\n",
    "t.sleep(8)\n",
    "print(\"Successfully logged into Facebook.\")\n",
    "profile_page = browser.find_element_by_xpath('/html/body/div[1]/div/div[1]/div/div[2]/div[4]/div[1]/div[4]/a/span/span')\n",
    "profile_page.click()\n",
    "t.sleep(20)\n",
    "friends_page = browser.find_element_by_xpath('/html/body/div[1]/div/div[1]/div/div[3]/div/div/div[1]/div[1]/div/div/div[3]/div/div/div/div[1]/div/div/div[1]/div/div/div/div/div/div/a[3]/div[1]/span')\n",
    "friends_page.click()\n",
    "t.sleep(15)\n",
    "search_frieds_page = browser.find_element_by_xpath('/html/body/div[1]/div/div[1]/div/div[3]/div/div/div[1]/div[1]/div/div/div[4]/div/div/div/div/div/div/div/div/div[1]/div[2]/div[1]/label/input')\n",
    "search_frieds_page.click()\n",
    "search_frieds_page.send_keys(friend_name)\n",
    "t.sleep(10)\n",
    "first_friend_in_results = browser.find_element_by_xpath('/html/body/div[1]/div/div[1]/div/div[3]/div/div/div[1]/div[1]/div/div/div[4]/div/div/div/div[1]/div/div/div/div/div[3]/div/div[2]/div[1]/a/span')\n",
    "first_friend_in_results.click()\n",
    "t.sleep(10)\n",
    "choosing_to_msg_friend = browser.find_element_by_xpath('/html/body/div[1]/div/div[1]/div/div[3]/div/div/div[1]/div[1]/div/div/div[3]/div/div/div/div[2]/div/div/div/div[2]/div/div/div/div[1]/div[2]/span/span')\n",
    "t.sleep(10)\n",
    "msging_friend = browser.find_element_by_xpath('/html/body/div[1]/div/div[1]/div/div[3]/div/div/div[1]/div[1]/div/div/div[3]/div/div/div/div[2]/div/div/div/div[2]/div/div/div/div[1]/div[2]/span/span')\n",
    "msging_friend.click()\n",
    "t.sleep(10)\n",
    "tapping_on_chat = browser.find_element_by_xpath('/html/body/div[1]/div/div[1]/div/div[5]/div/div[1]/div[1]/div[1]/div/div/div/div/div/div/div[2]/div/div[2]/form/div/div[3]/div[2]/div[1]/div/div/div/div/div[2]/div/div/div/div')\n",
    "t.sleep(10)\n",
    "tapping_on_chat.click()\n",
    "t.sleep(3)\n",
    "tapping_on_chat.send_keys(msg)\n",
    "t.sleep(3)\n",
    "tapping_on_chat.send_keys(Keys.ENTER)\n",
    "t.sleep(5)\n",
    "browser.close()\n",
    "print(\"Your msg sent successfully.\")\n"
   ]
  }
 ],
 "metadata": {
  "kernelspec": {
   "display_name": "Python 3",
   "language": "python",
   "name": "python3"
  },
  "language_info": {
   "codemirror_mode": {
    "name": "ipython",
    "version": 3
   },
   "file_extension": ".py",
   "mimetype": "text/x-python",
   "name": "python",
   "nbconvert_exporter": "python",
   "pygments_lexer": "ipython3",
   "version": "3.7.0"
  }
 },
 "nbformat": 4,
 "nbformat_minor": 2
}
